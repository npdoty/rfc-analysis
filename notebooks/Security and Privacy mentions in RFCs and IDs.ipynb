{
 "cells": [
  {
   "cell_type": "markdown",
   "metadata": {},
   "source": [
    "# Comparing Security Considerations sections in RFCs and I-Ds"
   ]
  },
  {
   "cell_type": "code",
   "execution_count": 101,
   "metadata": {},
   "outputs": [],
   "source": [
    "import pandas as pd\n",
    "import matplotlib.pyplot as plt\n",
    "import numpy as np\n",
    "import os\n",
    "import json"
   ]
  },
  {
   "cell_type": "code",
   "execution_count": 2,
   "metadata": {},
   "outputs": [],
   "source": [
    "%matplotlib inline"
   ]
  },
  {
   "cell_type": "markdown",
   "metadata": {},
   "source": [
    "Using scripts in `rfc-analysis`, we've parsed all RFCs and the currently active I-Ds for mentions of security and privacy and for measuring the lengths of different sections."
   ]
  },
  {
   "cell_type": "markdown",
   "metadata": {
    "heading_collapsed": true
   },
   "source": [
    "## Loading data"
   ]
  },
  {
   "cell_type": "markdown",
   "metadata": {
    "hidden": true
   },
   "source": [
    "(To run the following steps, you'll need to have downloaded all RFCs and current I-Ds and run both `python search.py --rfc` and `python search.py --id` to generate the data files.)"
   ]
  },
  {
   "cell_type": "code",
   "execution_count": 13,
   "metadata": {
    "hidden": true
   },
   "outputs": [],
   "source": [
    "id_json_file = open('../id-search.json', 'r')\n",
    "id_json = json.loads(id_json_file.read())\n",
    "\n",
    "rfc_json_file = open('../rfc-search.json', 'r')\n",
    "rfc_json = json.loads(rfc_json_file.read())"
   ]
  },
  {
   "cell_type": "code",
   "execution_count": 25,
   "metadata": {
    "hidden": true
   },
   "outputs": [],
   "source": [
    "id_df = pd.json_normalize(id_json)\n",
    "rfc_df = pd.json_normalize(rfc_json)"
   ]
  },
  {
   "cell_type": "code",
   "execution_count": 31,
   "metadata": {
    "hidden": true
   },
   "outputs": [
    {
     "data": {
      "text/plain": [
       "array(['rfc_number', 'title', 'year', ...,\n",
       "       'sections.Motivation and Design Rationale',\n",
       "       'sections.Extension Overview',\n",
       "       'sections.Certificate with External PSK Extension'], dtype=object)"
      ]
     },
     "execution_count": 31,
     "metadata": {},
     "output_type": "execute_result"
    }
   ],
   "source": [
    "rfc_df.columns.values"
   ]
  },
  {
   "cell_type": "markdown",
   "metadata": {
    "hidden": true
   },
   "source": [
    "Let's select just the columns we care about (as we have also imported the length of every section, and the normalization process has made this a very sparse table)."
   ]
  },
  {
   "cell_type": "code",
   "execution_count": 34,
   "metadata": {
    "hidden": true
   },
   "outputs": [],
   "source": [
    "ids_df = id_df[['shortname','lines','privacy_search','security_search','sections.Security Considerations']]"
   ]
  },
  {
   "cell_type": "code",
   "execution_count": 56,
   "metadata": {
    "hidden": true
   },
   "outputs": [],
   "source": [
    "rfcs_df = rfc_df[['rfc_number', 'title', 'year', 'lines', 'privacy_search','security_search','sections.Security Considerations']]"
   ]
  },
  {
   "cell_type": "code",
   "execution_count": 57,
   "metadata": {
    "hidden": true
   },
   "outputs": [
    {
     "data": {
      "text/html": [
       "<div>\n",
       "<style scoped>\n",
       "    .dataframe tbody tr th:only-of-type {\n",
       "        vertical-align: middle;\n",
       "    }\n",
       "\n",
       "    .dataframe tbody tr th {\n",
       "        vertical-align: top;\n",
       "    }\n",
       "\n",
       "    .dataframe thead th {\n",
       "        text-align: right;\n",
       "    }\n",
       "</style>\n",
       "<table border=\"1\" class=\"dataframe\">\n",
       "  <thead>\n",
       "    <tr style=\"text-align: right;\">\n",
       "      <th></th>\n",
       "      <th>rfc_number</th>\n",
       "      <th>title</th>\n",
       "      <th>year</th>\n",
       "      <th>lines</th>\n",
       "      <th>privacy_search</th>\n",
       "      <th>security_search</th>\n",
       "      <th>sections.Security Considerations</th>\n",
       "    </tr>\n",
       "  </thead>\n",
       "  <tbody>\n",
       "    <tr>\n",
       "      <th>0</th>\n",
       "      <td>RFC0001</td>\n",
       "      <td>Host Software</td>\n",
       "      <td>1969</td>\n",
       "      <td>619</td>\n",
       "      <td>0</td>\n",
       "      <td>0</td>\n",
       "      <td>NaN</td>\n",
       "    </tr>\n",
       "    <tr>\n",
       "      <th>1</th>\n",
       "      <td>RFC0002</td>\n",
       "      <td>Host software</td>\n",
       "      <td>1969</td>\n",
       "      <td>563</td>\n",
       "      <td>0</td>\n",
       "      <td>0</td>\n",
       "      <td>NaN</td>\n",
       "    </tr>\n",
       "    <tr>\n",
       "      <th>2</th>\n",
       "      <td>RFC0003</td>\n",
       "      <td>Documentation conventions</td>\n",
       "      <td>1969</td>\n",
       "      <td>80</td>\n",
       "      <td>0</td>\n",
       "      <td>0</td>\n",
       "      <td>NaN</td>\n",
       "    </tr>\n",
       "    <tr>\n",
       "      <th>3</th>\n",
       "      <td>RFC0004</td>\n",
       "      <td>Network timetable</td>\n",
       "      <td>1969</td>\n",
       "      <td>324</td>\n",
       "      <td>0</td>\n",
       "      <td>0</td>\n",
       "      <td>NaN</td>\n",
       "    </tr>\n",
       "    <tr>\n",
       "      <th>4</th>\n",
       "      <td>RFC0005</td>\n",
       "      <td>Decode Encode Language (DEL)</td>\n",
       "      <td>1969</td>\n",
       "      <td>949</td>\n",
       "      <td>0</td>\n",
       "      <td>0</td>\n",
       "      <td>NaN</td>\n",
       "    </tr>\n",
       "    <tr>\n",
       "      <th>...</th>\n",
       "      <td>...</td>\n",
       "      <td>...</td>\n",
       "      <td>...</td>\n",
       "      <td>...</td>\n",
       "      <td>...</td>\n",
       "      <td>...</td>\n",
       "      <td>...</td>\n",
       "    </tr>\n",
       "    <tr>\n",
       "      <th>8561</th>\n",
       "      <td>RFC8760</td>\n",
       "      <td>The Session Initiation Protocol (SIP) Digest A...</td>\n",
       "      <td>2020</td>\n",
       "      <td>414</td>\n",
       "      <td>0</td>\n",
       "      <td>4</td>\n",
       "      <td>16.0</td>\n",
       "    </tr>\n",
       "    <tr>\n",
       "      <th>8562</th>\n",
       "      <td>RFC8762</td>\n",
       "      <td>Simple Two-Way Active Measurement Protocol</td>\n",
       "      <td>2020</td>\n",
       "      <td>742</td>\n",
       "      <td>0</td>\n",
       "      <td>9</td>\n",
       "      <td>30.0</td>\n",
       "    </tr>\n",
       "    <tr>\n",
       "      <th>8563</th>\n",
       "      <td>RFC8768</td>\n",
       "      <td>Constrained Application Protocol (CoAP) Hop-Li...</td>\n",
       "      <td>2020</td>\n",
       "      <td>387</td>\n",
       "      <td>0</td>\n",
       "      <td>3</td>\n",
       "      <td>18.0</td>\n",
       "    </tr>\n",
       "    <tr>\n",
       "      <th>8564</th>\n",
       "      <td>RFC8769</td>\n",
       "      <td>Cryptographic Message Syntax (CMS) Content Typ...</td>\n",
       "      <td>2020</td>\n",
       "      <td>248</td>\n",
       "      <td>0</td>\n",
       "      <td>8</td>\n",
       "      <td>7.0</td>\n",
       "    </tr>\n",
       "    <tr>\n",
       "      <th>8565</th>\n",
       "      <td>RFC8773</td>\n",
       "      <td>TLS 1.3 Extension for Certificate-Based Authen...</td>\n",
       "      <td>2020</td>\n",
       "      <td>578</td>\n",
       "      <td>2</td>\n",
       "      <td>14</td>\n",
       "      <td>108.0</td>\n",
       "    </tr>\n",
       "  </tbody>\n",
       "</table>\n",
       "<p>8566 rows × 7 columns</p>\n",
       "</div>"
      ],
      "text/plain": [
       "     rfc_number                                              title  year  \\\n",
       "0       RFC0001                                      Host Software  1969   \n",
       "1       RFC0002                                      Host software  1969   \n",
       "2       RFC0003                          Documentation conventions  1969   \n",
       "3       RFC0004                                  Network timetable  1969   \n",
       "4       RFC0005                       Decode Encode Language (DEL)  1969   \n",
       "...         ...                                                ...   ...   \n",
       "8561    RFC8760  The Session Initiation Protocol (SIP) Digest A...  2020   \n",
       "8562    RFC8762         Simple Two-Way Active Measurement Protocol  2020   \n",
       "8563    RFC8768  Constrained Application Protocol (CoAP) Hop-Li...  2020   \n",
       "8564    RFC8769  Cryptographic Message Syntax (CMS) Content Typ...  2020   \n",
       "8565    RFC8773  TLS 1.3 Extension for Certificate-Based Authen...  2020   \n",
       "\n",
       "      lines  privacy_search  security_search  sections.Security Considerations  \n",
       "0       619               0                0                               NaN  \n",
       "1       563               0                0                               NaN  \n",
       "2        80               0                0                               NaN  \n",
       "3       324               0                0                               NaN  \n",
       "4       949               0                0                               NaN  \n",
       "...     ...             ...              ...                               ...  \n",
       "8561    414               0                4                              16.0  \n",
       "8562    742               0                9                              30.0  \n",
       "8563    387               0                3                              18.0  \n",
       "8564    248               0                8                               7.0  \n",
       "8565    578               2               14                             108.0  \n",
       "\n",
       "[8566 rows x 7 columns]"
      ]
     },
     "execution_count": 57,
     "metadata": {},
     "output_type": "execute_result"
    }
   ],
   "source": [
    "rfcs_df"
   ]
  },
  {
   "cell_type": "markdown",
   "metadata": {},
   "source": [
    "## Comparing Security Considerations sections\n",
    "\n",
    "Let's look at the lengths of the Security Considerations sections in all the RFCs, year by year. (The box shows the median and interquartile range, the whiskers show the 5th and 95th percentile -- as RFCs can vary in length a lot, the outliers can be extreme.)"
   ]
  },
  {
   "cell_type": "code",
   "execution_count": 77,
   "metadata": {},
   "outputs": [
    {
     "data": {
      "image/png": "[encoded data removed]",
      "text/plain": [
       "<Figure size 864x288 with 1 Axes>"
      ]
     },
     "metadata": {
      "needs_background": "light"
     },
     "output_type": "display_data"
    }
   ],
   "source": [
    "fig, ax = plt.subplots(figsize=(12,4))\n",
    "rfcs_df.boxplot(column='sections.Security Considerations', \n",
    "                by='year', \n",
    "                rot=90, \n",
    "                whis=[5,95], showfliers=False,\n",
    "                ax=ax)\n",
    "ax.set_title('Length of Security Considerations Sections in RFCs, by Year')\n",
    "plt.suptitle('')\n",
    "plt.show()"
   ]
  },
  {
   "cell_type": "markdown",
   "metadata": {},
   "source": [
    "And we can compare this (on the same axis) to the currently active Internet-Drafts."
   ]
  },
  {
   "cell_type": "code",
   "execution_count": 114,
   "metadata": {},
   "outputs": [
    {
     "data": {
      "image/png": "[encoded data removed]",
      "text/plain": [
       "<Figure size 864x288 with 2 Axes>"
      ]
     },
     "metadata": {
      "needs_background": "light"
     },
     "output_type": "display_data"
    }
   ],
   "source": [
    "fig, (ax1, ax2) = plt.subplots(1,2, sharey=True, figsize=(12,4), gridspec_kw={'width_ratios':[8,1]})\n",
    "rfcs_df.boxplot(column='sections.Security Considerations', \n",
    "                by='year', \n",
    "                rot=90, \n",
    "                whis=[5,95], showfliers=False,\n",
    "                ax=ax1)\n",
    "plt.suptitle('Length of Security Considerations Sections')\n",
    "plt.subplots_adjust(top=0.85)\n",
    "ids_df.boxplot(column='sections.Security Considerations', whis=[5,95], showfliers=False, ax=ax2)\n",
    "ax2.set_xticklabels([''])\n",
    "ax2.set_title('Active I-Ds')\n",
    "ax1.set_title('RFCs')\n",
    "ax1.set_xlabel('')\n",
    "plt.show()\n",
    "fig.savefig('security-considerations-comparison.png', dpi=300)"
   ]
  },
  {
   "cell_type": "markdown",
   "metadata": {},
   "source": [
    "I-Ds seem to have shorter Security Considerations sections than most recent years' published RFCs: at the median and different percentiles. (Total document length doesn't seem to explain the difference.)"
   ]
  },
  {
   "cell_type": "markdown",
   "metadata": {},
   "source": [
    "## Comparing search term frequencies\n",
    "\n",
    "We can also look at how often the terms \"privacy\" and \"security\" are mentioned."
   ]
  },
  {
   "cell_type": "code",
   "execution_count": 112,
   "metadata": {},
   "outputs": [
    {
     "data": {
      "image/png": "[encoded data removed]",
      "text/plain": [
       "<Figure size 864x288 with 2 Axes>"
      ]
     },
     "metadata": {
      "needs_background": "light"
     },
     "output_type": "display_data"
    }
   ],
   "source": [
    "fig, (ax1, ax2) = plt.subplots(1,2, sharey=True, figsize=(12,4), gridspec_kw={'width_ratios':[8,1]})\n",
    "rfcs_df.boxplot(column='security_search', \n",
    "                by='year', \n",
    "                rot=90, \n",
    "                whis=[5,95], showfliers=False,\n",
    "                ax=ax1)\n",
    "plt.suptitle('Frequency of \"security\"')\n",
    "plt.subplots_adjust(top=0.85)\n",
    "ids_df.boxplot(column='security_search', whis=[5,95], showfliers=False, ax=ax2)\n",
    "ax2.set_xticklabels([''])\n",
    "ax2.set_title('Active I-Ds')\n",
    "ax1.set_title('RFCs')\n",
    "ax1.set_xlabel('')\n",
    "plt.show()"
   ]
  },
  {
   "cell_type": "code",
   "execution_count": 111,
   "metadata": {},
   "outputs": [
    {
     "data": {
      "image/png": "[encoded data removed]",
      "text/plain": [
       "<Figure size 864x288 with 2 Axes>"
      ]
     },
     "metadata": {
      "needs_background": "light"
     },
     "output_type": "display_data"
    }
   ],
   "source": [
    "fig, (ax1, ax2) = plt.subplots(1,2, sharey=True, figsize=(12,4))\n",
    "rfcs_df.boxplot(column='privacy_search', \n",
    "                whis=[5,95], showfliers=False,\n",
    "                ax=ax1)\n",
    "plt.suptitle('Frequency of \"privacy\"')\n",
    "plt.subplots_adjust(top=0.85)\n",
    "ids_df.boxplot(column='privacy_search', whis=[5,95], showfliers=False, ax=ax2)\n",
    "ax2.set_title('Active I-Ds')\n",
    "ax1.set_title('RFCs')\n",
    "plt.show()"
   ]
  },
  {
   "cell_type": "markdown",
   "metadata": {},
   "source": [
    "The term \"privacy\" is mentioned quite rarely in these IETF docs: at least 75% of the documents in each set don't mention it."
   ]
  }
 ],
 "metadata": {
  "kernelspec": {
   "display_name": "Python 3",
   "language": "python",
   "name": "python3"
  },
  "language_info": {
   "codemirror_mode": {
    "name": "ipython",
    "version": 3
   },
   "file_extension": ".py",
   "mimetype": "text/x-python",
   "name": "python",
   "nbconvert_exporter": "python",
   "pygments_lexer": "ipython3",
   "version": "3.7.6"
  }
 },
 "nbformat": 4,
 "nbformat_minor": 4
}
